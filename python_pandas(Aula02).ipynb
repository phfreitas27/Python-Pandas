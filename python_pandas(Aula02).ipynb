{
  "nbformat": 4,
  "nbformat_minor": 0,
  "metadata": {
    "colab": {
      "provenance": [],
      "authorship_tag": "ABX9TyNNRNDwkb5+tcHNxtehyp+P"
    },
    "kernelspec": {
      "name": "python3",
      "display_name": "Python 3"
    },
    "language_info": {
      "name": "python"
    }
  },
  "cells": [
    {
      "cell_type": "code",
      "execution_count": 3,
      "metadata": {
        "id": "n5LoBANu6oFF"
      },
      "outputs": [],
      "source": [
        "import pandas as pd\n",
        "\n",
        "combustivel_df = pd.read_excel(\"ca-2021-02.xlsx\")"
      ]
    },
    {
      "cell_type": "code",
      "source": [
        "print(combustivel_df)"
      ],
      "metadata": {
        "id": "tb3bH9eRA8Sc"
      },
      "execution_count": null,
      "outputs": []
    },
    {
      "cell_type": "code",
      "source": [
        "display(combustivel_df)"
      ],
      "metadata": {
        "id": "-EZ4yEUDCGnb"
      },
      "execution_count": null,
      "outputs": []
    },
    {
      "cell_type": "code",
      "source": [
        "display(combustivel_df.head(10))"
      ],
      "metadata": {
        "id": "yqtgKuP3E2-H"
      },
      "execution_count": null,
      "outputs": []
    },
    {
      "cell_type": "code",
      "source": [
        "display(combustivel_df.shape[1])"
      ],
      "metadata": {
        "id": "cGj6HmqmHbGG"
      },
      "execution_count": null,
      "outputs": []
    },
    {
      "cell_type": "code",
      "source": [
        "display(combustivel_df.describe())"
      ],
      "metadata": {
        "id": "mIPxEdToH40r"
      },
      "execution_count": null,
      "outputs": []
    },
    {
      "cell_type": "code",
      "source": [
        "display(combustivel_df.info())"
      ],
      "metadata": {
        "id": "gHY5JKRNSyrY"
      },
      "execution_count": null,
      "outputs": []
    },
    {
      "cell_type": "code",
      "source": [
        "display(combustivel_df['Revenda'])"
      ],
      "metadata": {
        "id": "51hfF6z3YQVd"
      },
      "execution_count": null,
      "outputs": []
    },
    {
      "cell_type": "code",
      "source": [
        "ca_df = combustivel_df[['Revenda', 'Municipio', 'Produto','Valor de Venda']]\n",
        "\n",
        "display(ca_df)"
      ],
      "metadata": {
        "id": "UKZME4V8ZfMP"
      },
      "execution_count": null,
      "outputs": []
    },
    {
      "cell_type": "code",
      "source": [
        "display(ca_df.loc[5])"
      ],
      "metadata": {
        "id": "rLa6JFC-ahPB"
      },
      "execution_count": null,
      "outputs": []
    },
    {
      "cell_type": "code",
      "source": [
        "display(ca_df.loc[9:19])"
      ],
      "metadata": {
        "id": "E9MgR1sDdUuA"
      },
      "execution_count": null,
      "outputs": []
    },
    {
      "cell_type": "code",
      "source": [
        "gas_df = ca_df.loc[ca_df['Produto'] == 'GASOLINA']\n",
        "display(gas_df)"
      ],
      "metadata": {
        "id": "9wvzCm7geRiB"
      },
      "execution_count": null,
      "outputs": []
    },
    {
      "cell_type": "code",
      "source": [
        "display(gas_df['Valor de Venda'].max())"
      ],
      "metadata": {
        "id": "b1X0K-hngdJR"
      },
      "execution_count": null,
      "outputs": []
    },
    {
      "cell_type": "code",
      "source": [
        "display(gas_df[['Revenda', 'Municipio','Valor de Venda']].max())"
      ],
      "metadata": {
        "id": "7ykkhMSPhg3E"
      },
      "execution_count": null,
      "outputs": []
    },
    {
      "cell_type": "code",
      "source": [
        "end_df = combustivel_df [['Nome da Rua']]\n",
        "end_df = combustivel_df.loc[combustivel_df['Nome da Rua'] == 'RUA DOMINGOS DA FONSECA']\n",
        "\n",
        "display(end_df)"
      ],
      "metadata": {
        "id": "kz_LZchygWfD"
      },
      "execution_count": null,
      "outputs": []
    }
  ]
}